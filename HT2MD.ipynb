{
  "cells": [
    {
      "cell_type": "markdown",
      "metadata": {
        "colab_type": "text",
        "id": "view-in-github"
      },
      "source": [
        "# Universidad del Valle de Guatemala\n",
        "18 Avenida 11-95 Guatemala      \n",
        "Departamento de Computación     \n",
        "Facultad de Ingeniería       \n",
        "Minería de Datos Sección 10         \n",
        "Fecha de entrega: 29/01/2024        \n",
        "\n",
        "Grupo 6 | Integrantes:\n",
        "- Diego Alexander Hernández Silvestre 21270\n",
        "- Linda Inés Jimenez Vides 21169\n",
        "- Daniel Armando Valdez Reyes 21240\n",
        "\n",
        "## Hoja  de trabajo 1\n",
        "## Ejercicio 2\n",
        "Para realizar una exploración inicial del conjunto de datos, se prodeció a realizar un resumen de la información proporcionada en el dataset del archivo \"*movies.csv*\". A continuación se muestran los resultados: "
      ]
    },
    {
      "cell_type": "code",
      "execution_count": null,
      "metadata": {
        "id": "e2e4pPyPriry"
      },
      "outputs": [],
      "source": [
        "import pandas as pd\n",
        "from typing import *\n",
        "\n",
        "dataframe: pd.DataFrame = pd.read_csv(\"movies.csv\",  encoding='ISO-8859-1')\n",
        "rows_to_correct = dataframe[dataframe['actorsCharacter'].astype(str) == dataframe['id'].astype(str)]\n",
        "\n",
        "# Realiza la corrección de valores\n",
        "dataframe.loc[rows_to_correct.index, 'director'] = ''\n",
        "dataframe.loc[rows_to_correct.index, 'actors'] = rows_to_correct['director']\n",
        "dataframe.loc[rows_to_correct.index, 'actorsPopularity'] = rows_to_correct['actors']\n",
        "dataframe.loc[rows_to_correct.index, 'actorsCharacter'] = rows_to_correct['actorsPopularity']\n",
        "\n",
        "rows_to_correct = dataframe[dataframe['actorsPopularity'].astype(str) == 'TRUE']\n",
        "dataframe.loc[rows_to_correct.index, 'actorsPopularity'] = rows_to_correct['video']\n",
        "dataframe.loc[rows_to_correct.index, 'video'] = rows_to_correct['actors']\n",
        "\n",
        "rows_to_correct = dataframe[dataframe['actorsPopularity'].astype(str) == 'FALSE']\n",
        "dataframe.loc[rows_to_correct.index, 'actorsPopularity'] = rows_to_correct['video']\n",
        "dataframe.loc[rows_to_correct.index, 'video'] = rows_to_correct['actors']\n",
        "\n",
        "\n",
        "dataframe['castWomenAmount'] = pd.to_numeric(dataframe['castWomenAmount'], errors='coerce')\n",
        "dataframe['castMenAmount'] = pd.to_numeric(dataframe['castMenAmount'], errors='coerce')\n",
        "\n",
        "dataframeTo = dataframe.drop('id', axis=1)\n",
        "\n",
        "dataframeTo.describe()"
      ]
    },
    {
      "cell_type": "code",
      "execution_count": null,
      "metadata": {},
      "outputs": [],
      "source": [
        "# Dividir los valores y expandirlos en nuevas filas\n",
        "split_values = dataframe['actorsPopularity'].str.split('|', expand=True).stack()\n",
        "\n",
        "# Crear un nuevo DataFrame con los valores divididos\n",
        "new_dataframe = split_values.reset_index(level=1, drop=True).to_frame('actorsPopularity')\n",
        "\n",
        "# Convertir la columna a números\n",
        "new_dataframe['actorsPopularity'] = new_dataframe['actorsPopularity'].astype(float)"
      ]
    }
  ],
  "metadata": {
    "colab": {
      "authorship_tag": "ABX9TyOEQmskn2Df1KPFQIcYb0CG",
      "include_colab_link": true,
      "provenance": []
    },
    "kernelspec": {
      "display_name": "Python 3",
      "name": "python3"
    },
    "language_info": {
      "name": "python"
    }
  },
  "nbformat": 4,
  "nbformat_minor": 0
}
